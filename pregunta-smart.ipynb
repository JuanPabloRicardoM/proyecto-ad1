{
 "cells": [
  {
   "cell_type": "markdown",
   "id": "d6a355bf",
   "metadata": {},
   "source": [
    "# 🕵️‍♂️ **DESCRIPCIÓN DEL PROBLEMA**\n",
    "\n",
    "El Banco cuenta con un aplicativo para la detección de fraude en los productos de crédito, sin embargo, las alertas de fraude están configuradas a través de reglas de monitoreo que trabajan de manera independiente. Su análisis y toma de decisiones depende de un alto grado de juicio profesional, situación que afecta la oportunidad en la detección de fraudes y puede generar ineficiencias operativas por falsas alertas.  \n",
    "⏳ En promedio los fraudes se detectan **en 6 meses** posterior a su materialización y/o cuando el personal del Banco que cometió el fraude se retira.  \n",
    "⚠️ Esta situación impacta negativamente en la **eficiencia operativa**, la **reputación institucional** y la **utilidad** del Banco.\n",
    "\n",
    "---\n",
    "\n",
    "# 🤖 **JUSTIFICACIÓN DEL PROBLEMA**\n",
    "\n",
    "La **ciencia de datos** y la **inteligencia artificial** permiten optimizar los procesos de detección de fraude mediante el análisis automatizado de grandes volúmenes de datos.  \n",
    "🔎 A través de un **modelo de clasificación** es posible integrar variables como:\n",
    "\n",
    "- 🗺️ Ubicación geográfica\n",
    "- 💳 Comportamiento de pago\n",
    "- 🏦 Comportamiento crediticio en otros bancos\n",
    "- ❗ Inconsistencias en la información del cliente\n",
    "- 👥 Similitud con información de colaboradores del banco\n",
    "\n",
    "Esto permite identificar correlaciones que no son fácilmente detectables por reglas independientes y aisladas, lo que genera:\n",
    "\n",
    "- 🚨 Alertas más precisas\n",
    "- 📉 Reducción de falsos positivos\n",
    "- 🥇 Priorización de investigaciones\n",
    "- ⏱️ Toma de decisiones oportuna\n",
    "- ⚙️ Optimización de recursos operativos\n",
    "- 🛡️ Mitigación de riesgos reputacionales, financieros y legales\n",
    "\n",
    "---\n",
    "\n",
    "# 🎯 **PREGUNTA SMART**\n",
    "\n",
    "> **¿Cuál es la probabilidad de que un crédito desembolsado presente indicios de fraude en los 30 días posteriores al desembolso, considerando variables como incumplimiento de pago, ciudad de alto riesgo, nivel de mora, valor de desembolso, concentración por analista, inconsistencias en la información del cliente, similitudes con datos de empleados del banco, comportamiento atípico de pagos de clientes de un mismo analista, utilizando un modelo de clasificación basado en datos históricos?**\n",
    "\n",
    "---\n",
    "\n",
    "## 📌**Características SMART**\n",
    "\n",
    "- **Específica:** Se enfoca en solicitudes de crédito y variables concretas.  \n",
    "- **Medible:** La probabilidad es cuantificable.  \n",
    "- **Accionable:** Permite priorizar investigaciones y ajustar políticas de aprobación.  \n",
    "- **Realista:** Utiliza datos disponibles y técnicas viables.  \n",
    "- **Temporal:** Define un periodo de análisis claro (**30 días**).\n",
    "\n",
    "---\n",
    "\n",
    "# 🏦🔒💼\n"
   ]
  }
 ],
 "metadata": {
  "language_info": {
   "name": "python"
  }
 },
 "nbformat": 4,
 "nbformat_minor": 5
}
